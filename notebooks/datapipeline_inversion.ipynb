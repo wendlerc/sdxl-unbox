{
 "cells": [
  {
   "cell_type": "code",
   "execution_count": 1,
   "metadata": {},
   "outputs": [],
   "source": [
    "%load_ext autoreload\n",
    "%autoreload 2"
   ]
  },
  {
   "cell_type": "code",
   "execution_count": 2,
   "metadata": {},
   "outputs": [],
   "source": [
    "import webdataset as wds\n",
    "import logging\n",
    "import torch\n",
    "import io\n",
    "\n",
    "def url_to_dataloader(url, num_workers=4, batch_size=16):\n",
    "    def log_and_continue(exn):\n",
    "        \"\"\"Call in an exception handler to ignore any exception, issue a warning, and continue.\"\"\"\n",
    "        logging.warning(f'Handling webdataset error ({repr(exn)}). Ignoring.')\n",
    "        return True\n",
    "    \n",
    "    def filter_no_latent(sample):\n",
    "        return 'latent.pt' in sample\n",
    "\n",
    "    def load_latent(z):\n",
    "        return torch.load(io.BytesIO(z), map_location='cpu').to(torch.float32)\n",
    "    \n",
    "    pipeline = [\n",
    "        wds.SimpleShardList(url),\n",
    "        wds.split_by_node,\n",
    "        wds.split_by_worker,\n",
    "        wds.tarfile_to_samples(handler=log_and_continue),\n",
    "        wds.select(filter_no_latent),\n",
    "        wds.shuffle(bufsize=5000, initial=1000),\n",
    "        wds.rename(image=\"latent.pt\", txt=\"txt\"),\n",
    "        wds.map_dict(image=load_latent, txt=lambda x: x.decode(\"utf-8\")),\n",
    "        wds.to_tuple(\"image\", \"txt\"),\n",
    "        wds.batched(batch_size, partial=False),\n",
    "    ]\n",
    "\n",
    "    dataset = wds.DataPipeline(*pipeline)\n",
    "\n",
    "    loader = wds.WebLoader(\n",
    "        dataset, batch_size=None, shuffle=False, num_workers=num_workers,\n",
    "    )\n",
    "    return loader"
   ]
  },
  {
   "cell_type": "code",
   "execution_count": 3,
   "metadata": {},
   "outputs": [],
   "source": [
    "url = \"/share/datasets/datasets/laicoyo/{000000..000009}.tar\"\n",
    "loader = url_to_dataloader(url)"
   ]
  },
  {
   "cell_type": "code",
   "execution_count": null,
   "metadata": {},
   "outputs": [],
   "source": [
    "d = next(iter(loader))\n",
    "d"
   ]
  }
 ],
 "metadata": {
  "kernelspec": {
   "display_name": "sdxlsae",
   "language": "python",
   "name": "python3"
  },
  "language_info": {
   "codemirror_mode": {
    "name": "ipython",
    "version": 3
   },
   "file_extension": ".py",
   "mimetype": "text/x-python",
   "name": "python",
   "nbconvert_exporter": "python",
   "pygments_lexer": "ipython3",
   "version": "3.12.9"
  }
 },
 "nbformat": 4,
 "nbformat_minor": 2
}
